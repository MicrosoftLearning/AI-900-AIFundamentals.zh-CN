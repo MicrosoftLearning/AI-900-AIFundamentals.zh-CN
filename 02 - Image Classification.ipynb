{
  "cells": [
    {
      "cell_type": "markdown",
      "source": [
        "# 图像分类\r\n",
        "\r\n",
        "*计算机视觉*认知服务为处理图像提供了有用的预构建模型，但你通常需要训练自己的计算机视觉模型。例如，假设 Northwind Traders 零售公司想创建一个自动结账系统，用于根据结账处摄像头拍摄的图像识别顾客想要购买的商品。要实现这一点，需要训练能对图像进行分类的分类模型以识别顾客要购买的商品。\r\n",
        "\r\n",
        "![一个拿着剪贴板的机器人，正在对苹果、香蕉和橙子的图片进行分类](./images/image-classification.jpg)\r\n",
        "\r\n",
        "在 Azure 中，可以使用***自定义视觉***认知服务基于现有图像训练图像分类模型。创建图像分类解决方案有两个要素。第一，必须使用现有图像训练模型以识别不同分类。第二，训练好模型后，必须将其发布为应用程序可以使用的服务。\r\n",
        "\r\n",
        "## 创建自定义视觉资源\r\n",
        "\r\n",
        "要使用自定义视觉服务，需要具有可用于*训练*模型的 Azure 资源，以及可用于*发布*模型以供应用程序使用的资源。用于其中一个（或两个）任务的资源可以是常规的**认知服务**资源，也可以是特定的**自定义视觉**资源。在完成这些任务时，可以采用同一个认知服务资源，也可以使用（同一区域中的）不同资源以单独管理成本。\r\n",
        "\r\n",
        "请按照以下说明创建一个新的**自定义视觉**资源。\r\n",
        "\r\n",
        "1. 在新的浏览器标签页中打开 Azure 门户 ([https://portal.azure.com](https://portal.azure.com))，使用与你的 Azure 订阅关联的 Microsoft 帐户进行登录。\r\n",
        "2. 选择“**&#65291;创建资源**”按钮，搜索“*自定义视觉*”并以如下设置创建**自定义视觉**资源：\r\n",
        "    * **创建选项**：均可\r\n",
        "    * **订阅**： *你的 Azure 订阅*\r\n",
        "    * **资源组**： *选择或创建具有唯一名称的资源组*\r\n",
        "    * **名称**： *输入一个唯一名称*\r\n",
        "    * **训练位置**： *选择任何可用区域*\r\n",
        "    * **训练定价层**：F0\r\n",
        "    * **预测位置**： *选择训练资源所在的区域*\r\n",
        "    * **预测定价层**：F0\r\n",
        "\r\n",
        "    > **备注**：如果在你的订阅中已有 F0 自定义视觉服务，此处请选择“**S0**”。\r\n",
        "\r\n",
        "3. 等待资源创建完毕，注意到已预配两个自定义视觉资源：一个用于训练，另一个用于预测。导航到创建这些资源时所在的资源组，即可查看资源。\r\n",
        "\r\n",
        "## 创建自定义视觉项目\r\n",
        "\r\n",
        "要训练物体检测模型，需要根据训练资源创建自定义视觉项目。为此，需要使用自定义视觉门户。\r\n",
        "\r\n",
        "1.从 https://aka.ms/fruit-images 下载并提取训练图像。**备注**：如果你无法访问训练图像，临时的应变方法是转到 https://www.github.com，然后转到 https://aka.ms/fruit-images。  \r\n",
        "2. 在其他浏览器选项卡中，打开自定义视觉门户 ([https://customvision.ai](https://customvision.ai))。如果出现系统提示，请使用与你的 Azure 订阅相关联的 Microsoft 帐户登录并同意服务条款。\r\n",
        "3. 在自定义视觉门户中通过以下设置创建新项目：\r\n",
        "    * **名称**：Grocery Checkout\r\n",
        "    * **说明**：商品图像分类\r\n",
        "    * **资源**： *你之前创建的自定义视觉资源*\r\n",
        "    * **项目类型**：分类\r\n",
        "    * **分类类型**：多类（每个图像一个标签）\r\n",
        "    * **领域**：食品\r\n",
        "4. 单击“**\\[+\\] 添加图像**”，并选择你之前提取的“**苹果**”文件夹中的所有文件。上传这些图像文件，指定“*苹果*”标签，如下所示：\r\n",
        "\r\n",
        "![上传带有苹果标签的苹果](./images/upload_apples.jpg)\r\n",
        "   \r\n",
        "5. 重复上一步，上传“**香蕉**”文件夹中具有“*香蕉*”标签的图像，上传“**橙子**”文件夹中具有“*橙子*”标签的图像。\r\n",
        "6. 浏览你在自定义视觉项目中上传的图像 - 每个分类应该有 15 张图像，如下所示：\r\n",
        "\r\n",
        "![带有标签的水果图像 - 15 个苹果、15 个香蕉以及 15 个橙子](./images/fruit.jpg)\r\n",
        "    \r\n",
        "7. 在自定义视觉项目中，单击图像上方的“**训练**”以使用这些带有标签的图像来训练分类模型。选择“**快速训练**”选项，然后等待训练迭代完成（这可能需要一分钟左右）。\r\n",
        "8. 模型迭代训练完成后，请检查*精度*、*召回*率和 *AP* 性能指标 - 这些指标用于衡量分类模型的预测准确度，且应该都很高。\r\n",
        "\r\n",
        "## 测试模型\r\n",
        "\r\n",
        "在发布此模型迭代以供应用程序使用之前，应该对它进行测试。\r\n",
        "\r\n",
        "1. 单击性能指标上的“**快速测试**”。\r\n",
        "2. 在“**图像 URL**”框中键入 `https://aka.ms/apple-image` 并单击“&#10132;”\r\n",
        "3. 查看模型返回的预测结果 -“*苹果*”的概率分数应该是最高的，如下所示：\r\n",
        "\r\n",
        "![包含“苹果”的分类预测的图像](./images/test-apple.jpg)\r\n",
        "\r\n",
        "4. 关闭“**快速测试**”窗口。\r\n",
        "\r\n",
        "## 发布并使用图像分类模型\r\n",
        "\r\n",
        "现在即可发布已训练的模型并在客户端应用程序中使用它。\r\n",
        "\r\n",
        "9. 单击“**&#128504; 发布**”，通过以下设置发布已训练的模型：\r\n",
        "    * **模型名称**：groceries\r\n",
        "    * **预测资源**： *你之前创建的预测资源*。\r\n",
        "\r\n",
        "### (!) 签入 \r\n",
        "是否使用了相同的模型名称“**groceries**”？   \r\n",
        "\r\n",
        "10. 发布后，单击“**性能**”页面右上角的“*设置*”(&#9881;) 图标以查看项目设置。然后在左侧的“**常规**”下复制**项目 ID**。向下滚动并将其粘贴到步骤 13 下的代码单元格中，替换“**YOUR_PROJECT_ID**”。\r\n",
        "\r\n",
        "![项目设置中的项目 ID](./images/cv_project_settings.jpg)\r\n",
        "\r\n",
        "> _**备注**：如果在本练习开始时你没有创建**自定义视觉**资源，而是使用**认知服务**资源，可以在项目设置的右侧复制其密钥和终结点，并将其粘贴至下方的代码单元格中，然后运行它以查看结果。否则请继续完成以下步骤，获取自定义视觉预测资源的密钥和终结点_\r\n",
        "\r\n",
        "11. 单击“**项目设置**”页面左上角的“*项目库*”(&#128065;) 图标以返回到自定义视觉门户主页，此处现在会列出你的项目。\r\n",
        "\r\n",
        "12. 单击自定义视觉门户主页右上角的“*设置*”(&#9881;) 图标，查看自定义视觉服务的设置。然后在“**资源**”下展开**预测**资源（不是训练资源），并将资源的**密钥**和**终结点**值复制到步骤 13 下面的代码单元格中，分别替换“**YOUR_KEY**”和“**YOUR_ENDPOINT**”。\r\n",
        "\r\n",
        "### (!)签入 \r\n",
        "如果你使用的是**自定义视觉**资源，那你是否使用过**预测**资源（不是训练资源）？\r\n",
        "\r\n",
        "![自定义视觉设置中的预测资源密钥和终结点](./images/cv_settings.jpg)\r\n",
        "\r\n",
        "13. 通过单击“**运行单元格**”(&#9655;) 按钮（位于单元格的左侧）运行下面的代码单元格，将变量设置为你的项目 ID、密钥和终结点值。"
      ],
      "metadata": {}
    },
    {
      "cell_type": "code",
      "execution_count": null,
      "source": [
        "project_id = 'YOUR_PROJECT_ID'\r\n",
        "cv_key = 'YOUR_KEY'\r\n",
        "cv_endpoint = 'YOUR_ENDPOINT'\r\n",
        "\r\n",
        "model_name = 'groceries' # this must match the model name you set when publishing your model iteration (it's case-sensitive)!\r\n",
        "print('Ready to predict using model {} in project {}'.format(model_name, project_id))"
      ],
      "outputs": [],
      "metadata": {
        "gather": {
          "logged": 1599691949340
        }
      }
    },
    {
      "cell_type": "markdown",
      "source": [
        "现在可以使用密钥和终结点通过自定义视觉客户端连接到自定义视觉分类模型。\r\n",
        "\r\n",
        "运行以下代码单元格，使用已发布的模型对选定的测试图像进行分类。\r\n",
        "\r\n",
        "> **备注**：无需太担心代码的详细信息。它使用适用于 Python 的计算机视觉 SDK 为 /data/image-classification/test-fruit 文件夹中的每个图像获取分类预测结果"
      ],
      "metadata": {}
    },
    {
      "cell_type": "code",
      "execution_count": null,
      "source": [
        "from azure.cognitiveservices.vision.customvision.prediction import CustomVisionPredictionClient\r\n",
        "from msrest.authentication import ApiKeyCredentials\r\n",
        "import matplotlib.pyplot as plt\r\n",
        "from PIL import Image\r\n",
        "import os\r\n",
        "%matplotlib inline\r\n",
        "\r\n",
        "# Get the test images from the data/vision/test folder\r\n",
        "test_folder = os.path.join('data', 'image-classification', 'test-fruit')\r\n",
        "test_images = os.listdir(test_folder)\r\n",
        "\r\n",
        "# Create an instance of the prediction service\r\n",
        "credentials = ApiKeyCredentials(in_headers={\"Prediction-key\": cv_key})\r\n",
        "custom_vision_client = CustomVisionPredictionClient(endpoint=cv_endpoint, credentials=credentials)\r\n",
        "\r\n",
        "# Create a figure to display the results\r\n",
        "fig = plt.figure(figsize=(16, 8))\r\n",
        "\r\n",
        "# Get the images and show the predicted classes for each one\r\n",
        "print('Classifying images in {} ...'.format(test_folder))\r\n",
        "for i in range(len(test_images)):\r\n",
        "    # Open the image, and use the custom vision model to classify it\r\n",
        "    image_contents = open(os.path.join(test_folder, test_images[i]), \"rb\")\r\n",
        "    classification = custom_vision_client.classify_image(project_id, model_name, image_contents.read())\r\n",
        "    # The results include a prediction for each tag, in descending order of probability - get the first one\r\n",
        "    prediction = classification.predictions[0].tag_name\r\n",
        "    # Display the image with its predicted class\r\n",
        "    img = Image.open(os.path.join(test_folder, test_images[i]))\r\n",
        "    a=fig.add_subplot(len(test_images)/3, 3,i+1)\r\n",
        "    a.axis('off')\r\n",
        "    imgplot = plt.imshow(img)\r\n",
        "    a.set_title(prediction)\r\n",
        "plt.show()"
      ],
      "outputs": [],
      "metadata": {
        "gather": {
          "logged": 1599692327514
        }
      }
    },
    {
      "cell_type": "markdown",
      "source": [
        "希望你的图像分类模型已正确识别图像中的商品。\r\n",
        "\r\n",
        "## 了解详细信息\r\n",
        "\r\n",
        "自定义视觉服务提供的功能比本练习中介绍的功能更丰富。例如，还可以使用自定义视觉服务来创建*物体检测*模型，此类模型不仅可以对图像中的物体进行分类，还能识别显示图像中的物体位置的*边界框*。\r\n",
        "\r\n",
        "如果要详细了解自定义视觉认知服务，请查看[自定义视觉文档](https://docs.microsoft.com/azure/cognitive-services/custom-vision-service/home)"
      ],
      "metadata": {}
    }
  ],
  "metadata": {
    "language_info": {
      "name": "python",
      "version": "3.6.9",
      "mimetype": "text/x-python",
      "codemirror_mode": {
        "name": "ipython",
        "version": 3
      },
      "pygments_lexer": "ipython3",
      "nbconvert_exporter": "python",
      "file_extension": ".py"
    },
    "kernelspec": {
      "name": "python3-azureml",
      "language": "python",
      "display_name": "Python 3.6 - AzureML"
    },
    "kernel_info": {
      "name": "python3-azureml"
    },
    "nteract": {
      "version": "nteract-front-end@1.0.0"
    }
  },
  "nbformat": 4,
  "nbformat_minor": 2
}