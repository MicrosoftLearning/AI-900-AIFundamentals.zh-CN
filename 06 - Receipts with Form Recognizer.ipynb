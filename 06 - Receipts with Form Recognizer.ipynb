{
  "cells": [
    {
      "cell_type": "markdown",
      "source": [
        "# 使用表单识别器分析收据\r\n",
        "\r\n",
        "![拿着收据的机器人](./images/receipt_analysis.jpg)\r\n",
        "\r\n",
        "在计算机视觉的人工智能 (AI) 领域中，光学字符识别 (OCR) 通常用于读取印刷体文档或手写文档。通常只需从文档中提取文本，并将其处理为可供进一步处理或分析的格式。\r\n",
        "\r\n",
        "更复杂的 OCR 场景是从表单（如采购订单或发票）中提取信息，并从语义上理解表单中各字段表示的意思。**表单识别器**服务专为此类 AI 问题而设计。\r\n",
        "\r\n",
        "## 查看收据\r\n",
        "\r\n",
        "本例将使用表单识别器的内置模型来分析收据。\r\n",
        "\r\n",
        "单击下面的“**运行单元格**”(&#9655;) 按钮（位于单元格左侧）以运行它，并查看将使用表单识别器来进行分析的收据示例。"
      ],
      "metadata": {}
    },
    {
      "cell_type": "code",
      "source": [
        "import matplotlib.pyplot as plt\n",
        "from PIL import Image\n",
        "import os\n",
        "%matplotlib inline\n",
        "\n",
        "\n",
        "# Load and display a receipt image\r\n",
        "fig = plt.figure(figsize=(6, 6))\n",
        "image_path = os.path.join('data', 'form-receipt', 'receipt.jpg')\n",
        "img = Image.open(image_path)\n",
        "plt.axis('off')\n",
        "plt.imshow(img)"
      ],
      "outputs": [],
      "execution_count": null,
      "metadata": {
        "gather": {
          "logged": 1599694427893
        }
      }
    },
    {
      "cell_type": "markdown",
      "source": [
        "## 创建表单识别器资源\r\n",
        "\r\n",
        "首先在 Azure 订阅中创建表单识别器资源：\r\n",
        "\r\n",
        "1. 在另一个浏览器标签页中，打开 Azure 门户 (https://portal.azure.com) 并使用 Microsoft 帐户登录。\r\n",
        "2. 选择“**+ 创建资源**”并搜索“*表单识别器*”。\r\n",
        "3. 在服务列表中，选择“**表单识别器**”。\r\n",
        "4. 在“**表单识别器**”边栏选项卡中选择“**创建**”。\r\n",
        "5. 在“**创建**”边栏选项卡中，输入以下详细信息，然后选择“**创建**”\r\n",
        "   * **名称**：服务的唯一名称\r\n",
        "   * **订阅**：你的 Azure 订阅\r\n",
        "   * **区域**：任何可用区域\r\n",
        "   * **定价层**：F0\r\n",
        "   * **资源组**：之前使用的现有资源组\r\n",
        "   * **我确认我已阅读并理解以下通知**：已选中。\r\n",
        "6. 等待服务创建完毕。\r\n",
        "7. 在 Azure 门户中查看新建的表单识别器服务，并在“**密钥和终结点**”页面上复制“**Key1**”和**终结点**值，然后将这两个值粘贴到下方的代码单元格中，替换“**YOUR_FORM_KEY**”和“**YOUR_FORM_ENDPOINT**”。"
      ],
      "metadata": {}
    },
    {
      "cell_type": "code",
      "source": [
        "form_key = 'YOUR_FORM_KEY'\n",
        "form_endpoint = 'YOUR_FORM_ENDPOINT'\n",
        "\n",
        "print('Ready to use form recognizer at {} using key {}'.format(form_endpoint, form_key))"
      ],
      "outputs": [],
      "execution_count": null,
      "metadata": {
        "gather": {
          "logged": 1599694505850
        }
      }
    },
    {
      "cell_type": "markdown",
      "source": [
        "## 分析收据\r\n",
        "\r\n",
        "现在可以使用表单识别器来分析收据了。"
      ],
      "metadata": {}
    },
    {
      "cell_type": "code",
      "source": [
        "import os\n",
        "from azure.ai.formrecognizer import FormRecognizerClient\n",
        "from azure.core.credentials import AzureKeyCredential\n",
        "\n",
        "# Create a client for the form recognizer servicer\n",
        "form_recognizer_client = FormRecognizerClient(endpoint=form_endpoint, credential=AzureKeyCredential(form_key))\n",
        "\n",
        "try:\n",
        "    print(\"Analyzing receipt...\")\n",
        "    # Get the receipt image file\n",
        "    image_path = os.path.join('data', 'form-receipt', 'receipt.jpg')\n",
        "\n",
        "    # Submit the file data to form recognizer\n",
        "    with open(image_path, \"rb\") as f:\n",
        "        analyze_receipt = form_recognizer_client.begin_recognize_receipts(receipt=f)\n",
        "    \n",
        "    # Get the results\n",
        "    receipt_data = analyze_receipt.result()\n",
        "\n",
        "    # Print the extracted data for the first (and only) receipt\n",
        "    receipt = receipt_data[0]\n",
        "    receipt_type = receipt.fields.get(\"ReceiptType\")\n",
        "    if receipt_type:\n",
        "        print(\"Receipt Type: {}\".format(receipt_type.value))\n",
        "    merchant_address = receipt.fields.get(\"MerchantAddress\")\n",
        "    if merchant_address:\n",
        "        print(\"Merchant Address: {}\".format(merchant_address.value))\n",
        "    merchant_phone = receipt.fields.get(\"MerchantPhoneNumber\")\n",
        "    if merchant_phone:\n",
        "        print(\"Merchant Phone: {}\".format(merchant_phone.value))\n",
        "    transaction_date = receipt.fields.get(\"TransactionDate\")\n",
        "    if transaction_date:\n",
        "        print(\"Transaction Date: {}\".format(transaction_date.value))\n",
        "    print(\"Receipt items:\")\n",
        "    items = receipt.fields.get(\"Items\")\n",
        "    if items:\n",
        "        for idx, item in enumerate(receipt.fields.get(\"Items\").value):\n",
        "            print(\"\\tItem #{}\".format(idx+1))\n",
        "            item_name = item.value.get(\"Name\")\n",
        "            if item_name:\n",
        "                print(\"\\t - Name: {}\".format(item_name.value))\n",
        "            item_total_price = item.value.get(\"TotalPrice\")\n",
        "            if item_total_price:\n",
        "                print(\"\\t - Price: {}\".format(item_total_price.value))\n",
        "    subtotal = receipt.fields.get(\"Subtotal\")\n",
        "    if subtotal:\n",
        "        print(\"Subtotal: {} \".format(subtotal.value))\n",
        "    tax = receipt.fields.get(\"Tax\")\n",
        "    if tax:\n",
        "        print(\"Tax: {}\".format(tax.value))\n",
        "    total = receipt.fields.get(\"Total\")\n",
        "    if total:\n",
        "        print(\"Total: {}\".format(total.value))\n",
        "\n",
        "except Exception as ex:\n",
        "    print('Error:', ex)\n"
      ],
      "outputs": [],
      "execution_count": null,
      "metadata": {
        "gather": {
          "logged": 1599694525404
        }
      }
    },
    {
      "cell_type": "markdown",
      "source": [
        "请注意，表单识别器能够解释表单中的数据，正确识别商家地址和电话号码、交易日期和时间以及单项商品、小计、税款和总额。\r\n",
        "\r\n",
        "## 更多信息\r\n",
        "\r\n",
        "有关表单识别器服务的详细信息，请参阅[表单识别器文档](https://docs.microsoft.com/zh-cn/azure/cognitive-services/form-recognizer/index)"
      ],
      "metadata": {}
    }
  ],
  "metadata": {
    "language_info": {
      "name": "python",
      "version": "3.6.9",
      "mimetype": "text/x-python",
      "codemirror_mode": {
        "name": "ipython",
        "version": 3
      },
      "pygments_lexer": "ipython3",
      "nbconvert_exporter": "python",
      "file_extension": ".py"
    },
    "kernelspec": {
      "name": "python3-azureml",
      "language": "python",
      "display_name": "Python 3.6 - AzureML"
    },
    "kernel_info": {
      "name": "python3-azureml"
    },
    "nteract": {
      "version": "nteract-front-end@1.0.0"
    }
  },
  "nbformat": 4,
  "nbformat_minor": 2
}