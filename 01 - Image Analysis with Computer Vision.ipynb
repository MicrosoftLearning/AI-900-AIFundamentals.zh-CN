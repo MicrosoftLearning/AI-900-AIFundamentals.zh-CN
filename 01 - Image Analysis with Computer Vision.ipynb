{
  "cells": [
    {
      "cell_type": "markdown",
      "source": [
        "# 使用计算机视觉服务进行图像分析\r\n",
        "\r\n",
        "![拿着图片的机器人](./images/computer_vision.jpg)\r\n",
        "\r\n",
        "*计算机视觉*是人工智能 (AI) 的一个分支，它探索可以“看到”世界的 AI 系统的开发，这包括通过摄像头实时观察或通过分析图像和视频认知世界。这是可行的，因为数字图像本质上只是由数字像素值构成的数组，我们可以将这些像素值用作“*特征*”来训练机器学习模型，这些模型可以对图像进行分类、检测图像中的离散物体，甚至能生成基于文本的照片摘要。\r\n",
        "\r\n",
        "## 使用计算机视觉认知服务\r\n",
        "\r\n",
        "Microsoft Azure 包含大量*认知服务*，这些服务封装了常用的 AI 功能，其中一些功能有助于构建计算机视觉解决方案。\r\n",
        "\r\n",
        "*计算机视觉*认知服务为我们探索 Azure 中的计算机视觉提供了显而易见的起点。它使用预先训练的机器学习模型来分析图像并提取有关图像的信息。\r\n",
        "\r\n",
        "例如，假设 Northwind Traders 决定开设一家“智能商店”，通过 AI 服务监视商店以识别需要帮助的顾客，然后引导店员去帮助这些顾客。通过使用计算机视觉服务，可以分析摄像头在商店中拍摄的图像，针对图像的内容提供有意义的说明。\r\n",
        "\r\n",
        "### 创建认知服务资源\r\n",
        "\r\n",
        "首先，在 Azure **订阅中创建**认知服务资源：\r\n",
        "\r\n",
        "1. 在另一个浏览器标签页中，打开 Azure 门户 (https://portal.azure.com) 并使用 Microsoft 帐户登录。\r\n",
        "2. 单击“**&#65291;创建资源**”按钮，搜索“*认知服务*”并以如下设置创建**认知服务**资源：\r\n",
        "    * **订阅**： *你的 Azure 订阅*。\r\n",
        "    * **资源组**： *选择或创建具有唯一名称的资源组*。\r\n",
        "    * **区域**： *选择任何可用区域*：\r\n",
        "    * **名称**： *输入一个唯一名称*。\r\n",
        "    * **定价层**：S0\r\n",
        "    * **我确认我已阅读并理解上述通知**：已选中。\r\n",
        "3. 等待部署完成。然后转到认知服务资源，并单击“**概述**”页面上的链接以管理该服务的密钥。你将需要使用终结点和密钥从客户端应用程序连接到认知服务资源。\r\n",
        "\r\n",
        "### 获取认知服务资源的密钥和终结点\r\n",
        "\r\n",
        "要使用认知服务资源，客户端应用程序需要其终结点和身份验证密钥：\r\n",
        "\r\n",
        "1. 进入 Azure 门户，在认知服务资源的“**密钥和终结点**”页面上复制资源的“**Key1**”，并将其粘贴到以下代码中，替换“**YOUR_COG_KEY**”。\r\n",
        "2. 复制资源的**终结点**，并将其粘贴到以下代码中，替换“**YOUR_COG_ENDPOINT**”。\r\n",
        "3. 运行以下代码，方法是选择单元格并单击单元格左侧的“**运行单元格**”(&#9655;) 按钮。"
      ],
      "metadata": {}
    },
    {
      "cell_type": "code",
      "source": [
        "cog_key = 'YOUR_COG_KEY'\n",
        "cog_endpoint = 'YOUR_COG_ENDPOINT'\n",
        "\n",
        "print('Ready to use cognitive services at {} using key {}'.format(cog_endpoint, cog_key))"
      ],
      "outputs": [],
      "execution_count": null,
      "metadata": {
        "gather": {
          "logged": 1599691487445
        }
      }
    },
    {
      "cell_type": "markdown",
      "source": [
        "现在你已设置好密钥和终结点，可以使用计算机视觉服务来分析图像了。\r\n",
        "\r\n",
        "运行下面的单元格，可以获取 */data/vision/store_cam1.jpg* 文件中一个图像的说明。"
      ],
      "metadata": {}
    },
    {
      "cell_type": "code",
      "source": [
        "from azure.cognitiveservices.vision.computervision import ComputerVisionClient\n",
        "from msrest.authentication import CognitiveServicesCredentials\n",
        "from python_code import vision\n",
        "import os\n",
        "%matplotlib inline\n",
        "\n",
        "# Get the path to an image file\r\n",
        "image_path = os.path.join('data', 'vision', 'store_cam1.jpg')\n",
        "\n",
        "# Get a client for the computer vision service\r\n",
        "computervision_client = ComputerVisionClient(cog_endpoint, CognitiveServicesCredentials(cog_key))\n",
        "\n",
        "# Get a description from the computer vision service\r\n",
        "image_stream = open(image_path, \"rb\")\n",
        "description = computervision_client.describe_image_in_stream(image_stream)\n",
        "\n",
        "# Display image and caption (code in helper_scripts/vision.py)\r\n",
        "vision.show_image_caption(image_path, description)\n"
      ],
      "outputs": [],
      "execution_count": null,
      "metadata": {
        "gather": {
          "logged": 1599691518279
        }
      }
    },
    {
      "cell_type": "markdown",
      "source": [
        "这似乎相当准确。\r\n",
        "\r\n",
        "我们再来试试其他图像。"
      ],
      "metadata": {}
    },
    {
      "cell_type": "code",
      "source": [
        "# Get the path to an image file\r\n",
        "image_path = os.path.join('data', 'vision', 'store_cam2.jpg')\n",
        "\n",
        "# Get a description from the computer vision service\r\n",
        "image_stream = open(image_path, \"rb\")\n",
        "description = computervision_client.describe_image_in_stream(image_stream)\n",
        "\n",
        "# Display image and caption (code in helper_scripts/vision.py)\r\n",
        "vision.show_image_caption(image_path, description)"
      ],
      "outputs": [],
      "execution_count": null,
      "metadata": {
        "gather": {
          "logged": 1599691524330
        }
      }
    },
    {
      "cell_type": "markdown",
      "source": [
        "建议的描述似乎也很准确。\r\n",
        "\r\n",
        "## 分析图像特征\r\n",
        "\r\n",
        "现在你已使用计算机视觉服务为几个图像生成了描述性描述，但它的功能远不止于此。计算机视觉服务提供的分析功能可以提取详细的信息，如：\r\n",
        "\r\n",
        "* 图像中检测到的常见类型物体的位置。\r\n",
        "* 图像中人脸的位置和大致年龄。\r\n",
        "* 图像中是否包含任何“成人”、“色情”或“血腥”内容。\r\n",
        "* 能与数据库中的图像相关联的相关标签（用于轻松查找到图像）。\r\n",
        "\r\n",
        "运行以下代码来分析某位顾客的图像。"
      ],
      "metadata": {}
    },
    {
      "cell_type": "code",
      "source": [
        "# Get the path to an image file\r\n",
        "image_path = os.path.join('data', 'vision', 'store_cam1.jpg')\n",
        "\n",
        "# Specify the features we want to analyze\r\n",
        "features = ['Description', 'Tags', 'Adult', 'Objects', 'Faces']\n",
        "\n",
        "# Get an analysis from the computer vision service\r\n",
        "image_stream = open(image_path, \"rb\")\n",
        "analysis = computervision_client.analyze_image_in_stream(image_stream, visual_features=features)\n",
        "\n",
        "# Show the results of analysis (code in helper_scripts/vision.py)\r\n",
        "vision.show_image_analysis(image_path, analysis)"
      ],
      "outputs": [],
      "execution_count": null,
      "metadata": {
        "gather": {
          "logged": 1599691530747
        }
      }
    },
    {
      "cell_type": "markdown",
      "source": [
        "## 了解详细信息\r\n",
        "\r\n",
        "除了此笔记本中介绍的功能之外，计算机视觉认知服务还提供以下功能：\r\n",
        "\r\n",
        "* 识别图像中的名人。\r\n",
        "* 检测图像中的品牌徽标。\r\n",
        "* 使用光学字符识别 (OCR) 读取图像中的文本。\r\n",
        "\r\n",
        "如果要详细了解计算机视觉认知服务，请参阅[计算机视觉文档](https://docs.microsoft.com/azure/cognitive-services/computer-vision/)\r\n"
      ],
      "metadata": {}
    }
  ],
  "metadata": {
    "language_info": {
      "name": "python",
      "version": "3.6.9",
      "mimetype": "text/x-python",
      "codemirror_mode": {
        "name": "ipython",
        "version": 3
      },
      "pygments_lexer": "ipython3",
      "nbconvert_exporter": "python",
      "file_extension": ".py"
    },
    "kernelspec": {
      "name": "python3-azureml",
      "language": "python",
      "display_name": "Python 3.6 - AzureML"
    },
    "kernel_info": {
      "name": "python3-azureml"
    },
    "nteract": {
      "version": "nteract-front-end@1.0.0"
    }
  },
  "nbformat": 4,
  "nbformat_minor": 2
}