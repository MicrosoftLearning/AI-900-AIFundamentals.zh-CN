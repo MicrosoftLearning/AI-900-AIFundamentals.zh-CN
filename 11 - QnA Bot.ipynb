{
  "cells": [
    {
      "cell_type": "markdown",
      "source": [
        "# 对话式 AI\r\n",
        "\r\n",
        "想想你通过即时消息、社交媒体、电子邮件或其他在线技术与他人进行交流的频率。对于我们许多人而言，这是我们首选的联系方式。在工作中遇到问题时，你可以使用聊天消息与同事联系，消息可在移动设备上传达，以便随时保持联系。\r\n",
        "\r\n",
        "![人与机器人在对话](./images/conversational_ai.jpg)\r\n",
        "\r\n",
        "机器人是使用此类渠道进行交流的 AI 代理，可在软件服务中实现自然的对话式体验。\r\n",
        "\r\n",
        "## 创建 QnA Maker 知识库\r\n",
        "\r\n",
        "对于客户支持方案，通常会创建一个机器人，该机器人可通过网站聊天窗口、电子邮件或语音界面来解答常见问题。机器人界面的基础是问题和适当答案的知识库，该机器人可搜索适当的回复。\r\n",
        "\r\n",
        "QnA Maker 服务是 Azure 中的一项认知服务，使你能够通过输入问题和答案对或根据现有文档或网页快速创建知识库。然后，该服务可使用一些内置的自然语言处理功能来解读问题并找到适当的答案。\r\n",
        "\r\n",
        "1. 打开另一个浏览器选项卡，然后转到 QnA Maker 门户 (https://qnamaker.ai)。 使用与 Azure 订阅关联的 Microsoft 帐户登录。\r\n",
        "2. 在 QnA Maker 门户中，选择“**创建知识库**”。\r\n",
        "3. 如果尚未创建 QnA 服务资源，请选择“**创建 QnA Maker 服务**”。Azure 门户将在另一个选项卡中打开，这样你就可以在订阅中创建 QnA Maker 服务。使用以下设置：\r\n",
        "   \r\n",
        "   - **订阅**： *你的 Azure 订阅*\r\n",
        "   - **资源组**： *选择现有资源组或新建一个*\r\n",
        "   - **名称**： *QnA 资源的唯一名称*\r\n",
        "   - **定价层**：中的机器人 F0\r\n",
        "   - **Azure 搜索定价层**：F\r\n",
        "   - **Azure 搜索位置**： *任何可用位置*\r\n",
        "   - **应用名称**： _与“**名称**”相同（“.azurewebsites.net”将自动追加）_\r\n",
        "   - **网站位置**： _与 **Azure 搜索位置**相同_\r\n",
        "   - **应用见解**：禁用\r\n",
        "\r\n",
        "> **备注**：如果已配置免费 **QnA Maker** 或 **Azure 搜索**资源，你的配额可能不允许另外创建一个。在这种情况下，请选择 **F0**/**F** 以外的其他层。\r\n",
        "\r\n",
        "4. 等待 QnA 服务和相关资源的部署在 Azure 门户中完成。\r\n",
        "5. 返回到“QnA Maker 门户”选项卡，然后在“**步骤 2**”部分中，单击“**刷新**”，刷新可用的 QnA 服务资源列表。\r\n",
        "6. 通过选择以下选项，将 QnA 服务连接到 KB：\r\n",
        "  - **Microsoft Azure Directory ID**： *订阅的 Azure Directory ID*\r\n",
        "  - **Azure 订阅名称**： *你的 Azure 订阅*\r\n",
        "  - **Azure QnA 服务**： *上一步中创建的 QnA 服务资源*\r\n",
        "  - **语言**：英语\r\n",
        "\r\n",
        "### (!)签入\r\n",
        "如果有消息说明该角色无权执行相关操作，请刷新 QnA Maker 门户的浏览器页面。\r\n",
        "\r\n",
        "7. 在“**步骤 3**”部分中，输入名称“**Margie's Travel KB**”。\r\n",
        "8. 在“**步骤 4**”部分的“**URL**”框中，键入 *https://github.com/MicrosoftLearning/mslearn-ai900/raw/main/data/qna_bot/margies_faq.docx*，并单击“**+ 添加 URL**”。然后在“**聊天**”下，选择“**专业**”。\r\n",
        "9. 在“**步骤 5**”中，单击“**创建 KB**”。\r\n",
        "10. 创建知识库时，请等待一分钟左右。然后查看已从常见问题解答文档中导入的问题和答案以及专业的聊天预定义回复。\r\n"
      ],
      "metadata": {}
    },
    {
      "cell_type": "markdown",
      "source": [
        "## 编辑知识库\r\n",
        "\r\n",
        "知识库基于常见问题解答文档中的详细信息和一些预定义的回复。可以添加自定义的问答对来对其进行补充。\r\n",
        "\r\n",
        "1. 单击“**+ 添加 QnA 对**”。\r\n",
        "2. 在“**问题**”框中，键入 `Hello`。然后单击“**+ 添加替代表述**”，然后键入 `Hi`。\r\n",
        "3. 在“**答案**”框中，键入 `Hello`。\r\n",
        "\r\n",
        "## 训练并测试知识库\r\n",
        "\r\n",
        "现在，你已有知识库，可以在 QnA Maker 门户中对其进行测试。\r\n",
        "\r\n",
        "1. 在页面右上角，单击“**保存并训练**”以训练知识库。可能需要更改窗口的大小才能看到该按钮。\r\n",
        "2. 训练完成后，单击“**&larr; 测试**”以打开测试窗格。\r\n",
        "3. 在测试窗格的底部，输入消息“*Hi*”。应该返回回复“**Hello**”。\r\n",
        "4. 在测试窗格的底部，输入消息“*I want to book a flight*”。应会从 FAQ 中返回相应的响应。\r\n",
        "5. 知识库测试完成后，请单击“**&rarr; 测试**”以关闭测试窗格。\r\n"
      ],
      "metadata": {}
    },
    {
      "cell_type": "markdown",
      "source": [
        "## 为知识库创建一个机器人\r\n",
        "\r\n",
        "知识库提供了一种后端服务，客户端应用程序可使用该后端服务通过某种用户界面来回答问题。通常，这些客户端应用程序是机器人。为了使知识库可用于机器人，必须将其发布为可通过 HTTP 访问的服务。然后，可以使用 Azure 机器人服务创建并托管一个使用知识库来回答用户问题的机器人。\r\n",
        "\r\n",
        "1. 在“QnA Maker”页面顶部，单击“**发布**”。然后在“**Margies Travel KB**”页中，单击“**发布**”。\r\n",
        "2. 部署服务后，单击“**创建机器人**”。这将在新的浏览器选项卡中打开 Azure 门户，以便你可以在 Azure 订阅中创建 Web 应用机器人。\r\n",
        "3. 在 Azure 门户中，使用以下设置创建 Web 应用机器人（其中大多数将为你预先填充）：\r\n",
        "  - **机器人句柄**： *机器人的唯一名称*\r\n",
        "  - **订阅**： *你的 Azure 订阅*\r\n",
        "  - **资源组**： *包含 QnA Maker 资源的资源组*\r\n",
        "  - **位置**： *与 QnA Maker 服务相同的位置*。\r\n",
        "  - **定价层**：中的机器人 F0\r\n",
        "  - **应用名称**： *与**机器人句柄**相同，并自动附加 *.azurewebsites.net* *\r\n",
        "  - **SDK 语言**： *选择 C# 或 Node.js*\r\n",
        "  - **QnA 身份验证密钥**： *这应该自动设置为 QnA 知识库的身份验证密钥*\r\n",
        "  - **应用服务计划/位置**： *应自动将其设置为合适的计划和位置*\r\n",
        "  - **Application Insights**：关闭\r\n",
        "  - **Microsoft 应用 ID 和密码**：自动创建应用 ID 和密码。\r\n",
        "4. 等待机器人创建（等待时，右上角外观像钟的通知图标会变为动态）。然后，在有关部署已完成的通知中，单击“**转到资源**”（或者，在主页上，单击“**资源组**”，打开在其中创建了 Web 应用机器人的资源组，并单击该资源组。）\r\n",
        "5. 在机器人的左侧窗格中，寻找“**设置**”，然后单击“**在 Web 聊天中测试**”页，然后一直等待到机器人显示消息“**Hello and welcome!**”（初始化可能需要几秒钟的时间）。\r\n",
        "6. 使用测试聊天界面，确保机器人按预期方式回答知识库中的问题。例如，尝试提交“*I need to cancel my hotel*”。\r\n"
      ],
      "metadata": {}
    },
    {
      "cell_type": "markdown",
      "source": [
        "## 通过一种渠道访问机器人\r\n",
        "\r\n",
        "机器人可用于通过一种或多种*渠道*为用户提供界面。例如，同一机器人可能支持通过 Web 聊天界面、电子邮件和 Microsoft Teams 进行互动。\r\n",
        "\r\n",
        "1. 在机器人的左侧窗格中，寻找“**设置**”，然后单击“**渠道**”。\r\n",
        "2. 请注意，已经自动添加了“**Web 聊天**”渠道，并且公共通信平台的其他渠道可供使用。\r\n",
        "3. 在“**Web 聊天**”渠道旁边，单击“**编辑**”。这将打开一个页面，其中包含将机器人嵌入网页所需的设置。要嵌入机器人，需要提供 HTML 嵌入代码以及为机器人生成的密钥之一。\r\n",
        "4. 复制**嵌入代码**，并将其粘贴到下面的单元格中，以替换注释 `<!-- EMBED CODE GOES HERE -->`。\r\n",
        "5. 对其中一个密钥（任意一个密钥均可）单击“**显示**”，然后复制该密钥。然后将其粘贴到下面的 HTML 嵌入代码中，替换 `YOUR_SECRET_HERE`。\r\n",
        "6. 将 HTML 代码中的 **min-height** 值更改为 **200px**（而不是默认的 500px）。这将有助于确保 HTML 界面在不滚动的情况下即可见。\r\n",
        "7. 通过单击单元格左侧的“**运行单元格**”(&#9655;) 按钮，运行下面的单元格，以呈现 HTML。\r\n",
        "8. 在 HTML 聊天界面中，通过提交问题（例如“*Who is Margie?*”或“*What destinations can I go to?*”）来测试机器人（机器人初始化时，除了回答你的问题外，它可能还会显示消息“*Hello and welcome*”。）"
      ],
      "metadata": {}
    },
    {
      "cell_type": "code",
      "execution_count": null,
      "source": [
        "%%html\r\n",
        "\r\n",
        "<!-- EMBED CODE GOES HERE -->"
      ],
      "outputs": [],
      "metadata": {}
    },
    {
      "cell_type": "markdown",
      "source": [
        "试验机器人。你可能会发现，机器人可以相当准确地回答常见问题解答中的问题，但其解释未经训练的问题的能力有限。你始终可以使用 QnA Maker 门户来编辑知识库以进行改进，然后将其重新发布。\r\n",
        "\r\n",
        "## 了解详细信息\r\n",
        "\r\n",
        "- 若要了解有关 QnA Maker 服务的详细信息，请查看 [QnA Maker 文档](https://docs.microsoft.com/azure/cognitive-services/qnamaker/)。\r\n",
        "- 若要了解有关 Microsoft 机器人服务的详细信息，请查看 [Azure 机器人服务页面](https://azure.microsoft.com/services/bot-service/)。"
      ],
      "metadata": {}
    }
  ],
  "metadata": {
    "language_info": {
      "name": "python",
      "version": "3.6.9",
      "mimetype": "text/x-python",
      "codemirror_mode": {
        "name": "ipython",
        "version": 3
      },
      "pygments_lexer": "ipython3",
      "nbconvert_exporter": "python",
      "file_extension": ".py"
    },
    "kernelspec": {
      "name": "python3-azureml",
      "language": "python",
      "display_name": "Python 3.6 - AzureML"
    },
    "kernel_info": {
      "name": "python3-azureml"
    },
    "nteract": {
      "version": "nteract-front-end@1.0.0"
    }
  },
  "nbformat": 4,
  "nbformat_minor": 2
}